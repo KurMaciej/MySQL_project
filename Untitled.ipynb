{
 "cells": [
  {
   "cell_type": "code",
   "execution_count": 3,
   "id": "ea0fad59",
   "metadata": {},
   "outputs": [],
   "source": [
    "from reportlab.pdfgen import canvas\n",
    "from reportlab.lib.pagesizes import A4\n",
    "from reportlab.lib.utils import ImageReader\n"
   ]
  },
  {
   "cell_type": "code",
   "execution_count": 4,
   "id": "b7f945ae",
   "metadata": {},
   "outputs": [],
   "source": [
    "w, h = A4"
   ]
  },
  {
   "cell_type": "code",
   "execution_count": 8,
   "id": "3e916214",
   "metadata": {},
   "outputs": [],
   "source": [
    "c = canvas.Canvas(\"hello-world.pdf\")\n",
    "c.drawString(0, h - 50, \"Hello world!\")\n",
    "c.save()"
   ]
  },
  {
   "cell_type": "code",
   "execution_count": 9,
   "id": "7cc697da",
   "metadata": {},
   "outputs": [
    {
     "name": "stdout",
     "output_type": "stream",
     "text": [
      "PDF with table created successfully at: example_with_table.pdf\n"
     ]
    }
   ],
   "source": [
    "from reportlab.pdfgen import canvas\n",
    "from reportlab.lib.pagesizes import letter\n",
    "from reportlab.platypus import SimpleDocTemplate, Table, TableStyle\n",
    "\n",
    "def create_pdf(file_path):\n",
    "    # Create a PDF document\n",
    "    pdf_doc = SimpleDocTemplate(file_path, pagesize=letter)\n",
    "\n",
    "    # Create a table\n",
    "    data = [['Name', 'Age', 'Country'],\n",
    "            ['John Doe', 30, 'USA'],\n",
    "            ['Jane Doe', 25, 'Canada'],\n",
    "            ['Bob Smith', 40, 'UK']]\n",
    "\n",
    "    table = Table(data)\n",
    "\n",
    "    # Apply style to the table\n",
    "    style = TableStyle([('BACKGROUND', (0, 0), (-1, 0), '#77aaff'),\n",
    "                        ('TEXTCOLOR', (0, 0), (-1, 0), (1, 1, 1, 1)),\n",
    "                        ('ALIGN', (0, 0), (-1, -1), 'CENTER'),\n",
    "                        ('FONTNAME', (0, 0), (-1, 0), 'Helvetica-Bold'),\n",
    "                        ('BOTTOMPADDING', (0, 0), (-1, 0), 12),\n",
    "                        ('BACKGROUND', (0, 1), (-1, -1), '#ccddff')])\n",
    "\n",
    "    table.setStyle(style)\n",
    "\n",
    "    # Build the PDF document\n",
    "    pdf_doc.build([table])\n",
    "\n",
    "if __name__ == \"__main__\":\n",
    "    pdf_file_path = \"example_with_table.pdf\"\n",
    "    create_pdf(pdf_file_path)\n",
    "    print(f\"PDF with table created successfully at: {pdf_file_path}\")"
   ]
  },
  {
   "cell_type": "code",
   "execution_count": 10,
   "id": "fff8c9f7",
   "metadata": {},
   "outputs": [
    {
     "name": "stdout",
     "output_type": "stream",
     "text": [
      "PDF with DataFrame created successfully at: example_with_dataframe_canvas.pdf\n"
     ]
    }
   ],
   "source": [
    "import pandas as pd\n",
    "from reportlab.pdfgen import canvas\n",
    "from reportlab.lib.pagesizes import letter\n",
    "from reportlab.platypus import Table, TableStyle\n",
    "\n",
    "def create_pdf_with_dataframe(file_path, dataframe):\n",
    "    # Create a PDF document\n",
    "    pdf_canvas = canvas.Canvas(file_path, pagesize=letter)\n",
    "\n",
    "    # Convert Pandas DataFrame to a list of lists\n",
    "    data = [list(dataframe.columns)] + dataframe.values.tolist()\n",
    "\n",
    "    # Create a table\n",
    "    table = Table(data)\n",
    "\n",
    "    # Apply style to the table\n",
    "    style = TableStyle([('BACKGROUND', (0, 0), (-1, 0), '#77aaff'),\n",
    "                        ('TEXTCOLOR', (0, 0), (-1, 0), (1, 1, 1, 1)),\n",
    "                        ('ALIGN', (0, 0), (-1, -1), 'CENTER'),\n",
    "                        ('FONTNAME', (0, 0), (-1, 0), 'Helvetica-Bold'),\n",
    "                        ('BOTTOMPADDING', (0, 0), (-1, 0), 12),\n",
    "                        ('BACKGROUND', (0, 1), (-1, -1), '#ccddff')])\n",
    "\n",
    "    table.setStyle(style)\n",
    "\n",
    "    # Calculate the position to center the table on the page\n",
    "    width, height = pdf_canvas._pagesize\n",
    "    table_width, table_height = table.wrap(0, 0)\n",
    "    x = (width - table_width) / 2\n",
    "    y = (height - table_height) / 2\n",
    "\n",
    "    # Draw the table on the canvas\n",
    "    table.drawOn(pdf_canvas, x, y)\n",
    "\n",
    "    # Save the PDF file\n",
    "    pdf_canvas.save()\n",
    "\n",
    "if __name__ == \"__main__\":\n",
    "    # Create a sample Pandas DataFrame\n",
    "    data = {'Name': ['John Doe', 'Jane Doe', 'Bob Smith'],\n",
    "            'Age': [30, 25, 40],\n",
    "            'Country': ['USA', 'Canada', 'UK']}\n",
    "    df = pd.DataFrame(data)\n",
    "\n",
    "    pdf_file_path = \"example_with_dataframe_canvas.pdf\"\n",
    "    create_pdf_with_dataframe(pdf_file_path, df)\n",
    "    print(f\"PDF with DataFrame created successfully at: {pdf_file_path}\")"
   ]
  },
  {
   "cell_type": "code",
   "execution_count": 13,
   "id": "f2735c44",
   "metadata": {},
   "outputs": [
    {
     "ename": "TypeError",
     "evalue": "cannot unpack non-iterable NoneType object",
     "output_type": "error",
     "traceback": [
      "\u001b[1;31m---------------------------------------------------------------------------\u001b[0m",
      "\u001b[1;31mTypeError\u001b[0m                                 Traceback (most recent call last)",
      "Input \u001b[1;32mIn [13]\u001b[0m, in \u001b[0;36m<cell line: 16>\u001b[1;34m()\u001b[0m\n\u001b[0;32m     20\u001b[0m font_size \u001b[38;5;241m=\u001b[39m \u001b[38;5;241m12\u001b[39m\n\u001b[0;32m     22\u001b[0m \u001b[38;5;66;03m# Call the function to get the height of the string\u001b[39;00m\n\u001b[1;32m---> 23\u001b[0m \u001b[43mget_string_height\u001b[49m\u001b[43m(\u001b[49m\u001b[43mtext\u001b[49m\u001b[43m,\u001b[49m\u001b[43m \u001b[49m\u001b[43mfont_name\u001b[49m\u001b[43m,\u001b[49m\u001b[43m \u001b[49m\u001b[43mfont_size\u001b[49m\u001b[43m)\u001b[49m\n",
      "Input \u001b[1;32mIn [13]\u001b[0m, in \u001b[0;36mget_string_height\u001b[1;34m(text, font_name, font_size)\u001b[0m\n\u001b[0;32m      8\u001b[0m pdf_canvas\u001b[38;5;241m.\u001b[39msetFont(font_name, font_size)\n\u001b[0;32m     10\u001b[0m \u001b[38;5;66;03m# Simulate drawing the text to get the height\u001b[39;00m\n\u001b[1;32m---> 11\u001b[0m dummy_width, string_height \u001b[38;5;241m=\u001b[39m pdf_canvas\u001b[38;5;241m.\u001b[39mdrawRightString(\u001b[38;5;241m0\u001b[39m, \u001b[38;5;241m0\u001b[39m, text)\n\u001b[0;32m     13\u001b[0m \u001b[38;5;66;03m# Print the height of the string\u001b[39;00m\n\u001b[0;32m     14\u001b[0m \u001b[38;5;28mprint\u001b[39m(\u001b[38;5;124mf\u001b[39m\u001b[38;5;124m\"\u001b[39m\u001b[38;5;124mHeight of the string \u001b[39m\u001b[38;5;124m'\u001b[39m\u001b[38;5;132;01m{\u001b[39;00mtext\u001b[38;5;132;01m}\u001b[39;00m\u001b[38;5;124m'\u001b[39m\u001b[38;5;124m with font \u001b[39m\u001b[38;5;124m'\u001b[39m\u001b[38;5;132;01m{\u001b[39;00mfont_name\u001b[38;5;132;01m}\u001b[39;00m\u001b[38;5;124m'\u001b[39m\u001b[38;5;124m and size \u001b[39m\u001b[38;5;132;01m{\u001b[39;00mfont_size\u001b[38;5;132;01m}\u001b[39;00m\u001b[38;5;124m: \u001b[39m\u001b[38;5;132;01m{\u001b[39;00mstring_height\u001b[38;5;132;01m}\u001b[39;00m\u001b[38;5;124m\"\u001b[39m)\n",
      "\u001b[1;31mTypeError\u001b[0m: cannot unpack non-iterable NoneType object"
     ]
    }
   ],
   "source": [
    "from reportlab.pdfgen import canvas\n",
    "\n",
    "def get_string_height(text, font_name, font_size):\n",
    "    # Create a PDF document\n",
    "    pdf_canvas = canvas.Canvas(\"dummy.pdf\")\n",
    "\n",
    "    # Set font and size\n",
    "    pdf_canvas.setFont(font_name, font_size)\n",
    "\n",
    "    # Simulate drawing the text to get the height\n",
    "    dummy_width, string_height = pdf_canvas.drawRightString(0, 0, text)\n",
    "\n",
    "    # Print the height of the string\n",
    "    print(f\"Height of the string '{text}' with font '{font_name}' and size {font_size}: {string_height}\")\n",
    "\n",
    "if __name__ == \"__main__\":\n",
    "    # Example string and font settings\n",
    "    text = \"Hello, this is a sample string.\"\n",
    "    font_name = \"Helvetica\"\n",
    "    font_size = 12\n",
    "\n",
    "    # Call the function to get the height of the string\n",
    "    get_string_height(text, font_name, font_size)"
   ]
  },
  {
   "cell_type": "code",
   "execution_count": null,
   "id": "8135797d",
   "metadata": {},
   "outputs": [],
   "source": []
  }
 ],
 "metadata": {
  "kernelspec": {
   "display_name": "Python 3 (ipykernel)",
   "language": "python",
   "name": "python3"
  },
  "language_info": {
   "codemirror_mode": {
    "name": "ipython",
    "version": 3
   },
   "file_extension": ".py",
   "mimetype": "text/x-python",
   "name": "python",
   "nbconvert_exporter": "python",
   "pygments_lexer": "ipython3",
   "version": "3.9.12"
  }
 },
 "nbformat": 4,
 "nbformat_minor": 5
}
