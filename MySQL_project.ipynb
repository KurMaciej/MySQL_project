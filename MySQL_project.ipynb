{
 "cells": [
  {
   "cell_type": "code",
   "execution_count": 1,
   "id": "e9f83856",
   "metadata": {},
   "outputs": [],
   "source": [
    "import mysql.connector"
   ]
  },
  {
   "cell_type": "code",
   "execution_count": 2,
   "id": "626073cc",
   "metadata": {},
   "outputs": [],
   "source": [
    "database = mysql.connector.connect(\n",
    "    host = \"localhost\",\n",
    "    user = \"root\",\n",
    "    passwd = \"Agusia123.\")"
   ]
  },
  {
   "cell_type": "code",
   "execution_count": 5,
   "id": "e62d6598",
   "metadata": {},
   "outputs": [],
   "source": [
    "my_cursor = database.cursor()"
   ]
  },
  {
   "cell_type": "code",
   "execution_count": 9,
   "id": "0e1a6cd8",
   "metadata": {},
   "outputs": [],
   "source": [
    "my_cursor.execute(\"SELECT * FROM books\")"
   ]
  },
  {
   "cell_type": "code",
   "execution_count": 10,
   "id": "dd9526cf",
   "metadata": {},
   "outputs": [],
   "source": [
    "myresult = my_cursor.fetchall()"
   ]
  },
  {
   "cell_type": "code",
   "execution_count": 13,
   "id": "186ea9e3",
   "metadata": {},
   "outputs": [
    {
     "name": "stdout",
     "output_type": "stream",
     "text": [
      "(1, 'The Namesake', 'Jhumpa', 'Lahiri', 2003, 32, 291)\n",
      "(2, 'Norse Mythology', 'Neil', 'Gaiman', 2016, 43, 304)\n",
      "(3, 'American Gods', 'Neil', 'Gaiman', 2001, 12, 465)\n",
      "(4, 'Interpreter of Maladies', 'Jhumpa', 'Lahiri', 1996, 97, 198)\n",
      "(5, 'A Hologram for the King: A Novel', 'Dave', 'Eggers', 2012, 154, 352)\n",
      "(6, 'The Circle', 'Dave', 'Eggers', 2013, 26, 504)\n",
      "(7, 'The Amazing Adventures of Kavalier & Clay', 'Michael', 'Chabon', 2000, 68, 634)\n",
      "(8, 'Just Kids', 'Patti', 'Smith', 2010, 55, 304)\n",
      "(9, 'A Heartbreaking Work of Staggering Genius', 'Dave', 'Eggers', 2001, 104, 437)\n",
      "(10, 'Coraline', 'Neil', 'Gaiman', 2003, 100, 208)\n",
      "(11, 'What We Talk About When We Talk About Love: Stories', 'Raymond', 'Carver', 1981, 23, 176)\n",
      "(12, \"Where I'm Calling From: Selected Stories\", 'Raymond', 'Carver', 1989, 12, 526)\n",
      "(13, 'White Noise', 'Don', 'DeLillo', 1985, 49, 320)\n",
      "(14, 'Cannery Row', 'John', 'Steinbeck', 1945, 95, 181)\n",
      "(15, 'Oblivion: Stories', 'David', 'Foster Wallace', 2004, 172, 329)\n",
      "(16, 'Consider the Lobster', 'David', 'Foster Wallace', 2005, 92, 343)\n",
      "(17, '10% Happier', 'Dan', 'Harris', 2014, 29, 256)\n",
      "(18, 'fake_book', 'Freida', 'Harris', 2001, 287, 428)\n",
      "(19, 'Lincoln In The Bardo', 'George', 'Saunders', 2017, 1000, 367)\n"
     ]
    }
   ],
   "source": [
    "for i in myresult:\n",
    "    print(i)"
   ]
  },
  {
   "cell_type": "code",
   "execution_count": null,
   "id": "cd931158",
   "metadata": {},
   "outputs": [],
   "source": []
  }
 ],
 "metadata": {
  "kernelspec": {
   "display_name": "Python 3 (ipykernel)",
   "language": "python",
   "name": "python3"
  },
  "language_info": {
   "codemirror_mode": {
    "name": "ipython",
    "version": 3
   },
   "file_extension": ".py",
   "mimetype": "text/x-python",
   "name": "python",
   "nbconvert_exporter": "python",
   "pygments_lexer": "ipython3",
   "version": "3.9.12"
  }
 },
 "nbformat": 4,
 "nbformat_minor": 5
}
