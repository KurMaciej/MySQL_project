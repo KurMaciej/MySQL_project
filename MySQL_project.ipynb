{
 "cells": [
  {
   "cell_type": "code",
   "execution_count": 1,
   "id": "e9f83856",
   "metadata": {},
   "outputs": [],
   "source": [
    "#modules\n",
    "import mysql.connector\n",
    "import pandas as pd\n",
    "from tabulate import tabulate"
   ]
  },
  {
   "cell_type": "code",
   "execution_count": 32,
   "id": "59be1c18",
   "metadata": {},
   "outputs": [],
   "source": [
    "#Functions\n",
    "#get columns names from table\n",
    "def get_colnames(my_cursor, column_name):\n",
    "    col_names = []\n",
    "    try:\n",
    "        query = \"SELECT COLUMN_NAME FROM INFORMATION_SCHEMA.COLUMNS WHERE TABLE_SCHEMA = DATABASE() AND TABLE_NAME = \\'{}\\'\".format(column_name) #selecting column names from provided table\n",
    "        my_cursor.execute(query)\n",
    "        my_result = my_cursor.fetchall()\n",
    "        for result in my_result:\n",
    "            col_names.append(result[0])\n",
    "        return col_names\n",
    "    except:\n",
    "        print(\"Error\")"
   ]
  },
  {
   "cell_type": "code",
   "execution_count": 35,
   "id": "f1d4d727",
   "metadata": {},
   "outputs": [],
   "source": [
    "#Reading data and saving to dataframe\n",
    "def read_data(my_cursor, query, column_name):\n",
    "    try:\n",
    "        columns = get_colnames(my_cursor, column_name)\n",
    "        my_cursor.execute(query)\n",
    "        my_result = my_cursor.fetchall()\n",
    "        pd_data = []\n",
    "\n",
    "        for result in my_result:\n",
    "            result = list(result)\n",
    "            pd_data.append(result)\n",
    "        return pd.DataFrame(pd_data, columns=columns)\n",
    "    except:\n",
    "        print(\"Error\")"
   ]
  },
  {
   "cell_type": "code",
   "execution_count": 3,
   "id": "626073cc",
   "metadata": {},
   "outputs": [],
   "source": [
    "#connecting with database\n",
    "database = mysql.connector.connect(\n",
    "    host = \"localhost\",\n",
    "    user = \"root\",\n",
    "    passwd = \"Agusia123.\")"
   ]
  },
  {
   "cell_type": "code",
   "execution_count": 4,
   "id": "e62d6598",
   "metadata": {},
   "outputs": [],
   "source": [
    "my_cursor = database.cursor()"
   ]
  },
  {
   "cell_type": "code",
   "execution_count": 5,
   "id": "0e1a6cd8",
   "metadata": {},
   "outputs": [],
   "source": [
    "my_cursor.execute(\"USE gravity_books\")"
   ]
  },
  {
   "cell_type": "code",
   "execution_count": 13,
   "id": "d6df053f",
   "metadata": {},
   "outputs": [],
   "source": [
    "my_cursor.execute(\"SELECT * FROM publisher LIMIT 10\")"
   ]
  },
  {
   "cell_type": "code",
   "execution_count": 14,
   "id": "dd9526cf",
   "metadata": {},
   "outputs": [],
   "source": [
    "myresult = my_cursor.fetchall()"
   ]
  },
  {
   "cell_type": "code",
   "execution_count": 15,
   "id": "186ea9e3",
   "metadata": {},
   "outputs": [
    {
     "name": "stdout",
     "output_type": "stream",
     "text": [
      "(1, '10/18')\n",
      "(2, '1st Book Library')\n",
      "(3, '1st World Library')\n",
      "(4, 'A & C Black (Childrens books)')\n",
      "(5, 'A Harvest Book/Harcourt Inc.')\n",
      "(6, 'A K PETERS')\n",
      "(7, 'AA World Services')\n",
      "(8, 'Abacus')\n",
      "(9, 'Abacus Books')\n",
      "(10, 'Abacus Books (London)')\n"
     ]
    }
   ],
   "source": [
    "for i in myresult:\n",
    "    print(i)"
   ]
  },
  {
   "cell_type": "code",
   "execution_count": 16,
   "id": "cd931158",
   "metadata": {},
   "outputs": [],
   "source": [
    "# Returns a list of lists and then creates a pandas DataFrame\n",
    "pd_data = []\n",
    "\n",
    "for result in my_result:\n",
    "    result = list(result)\n",
    "    pd_data.append(result)\n",
    "\n",
    "\n",
    "columns = [\"publisher_id\", \"publisher_name\"]\n",
    "df = pd.DataFrame(from_db, columns=columns)"
   ]
  },
  {
   "cell_type": "code",
   "execution_count": 33,
   "id": "f75b1f76",
   "metadata": {},
   "outputs": [],
   "source": [
    "test = get_colnames(my_cursor, 'book')"
   ]
  },
  {
   "cell_type": "code",
   "execution_count": 34,
   "id": "e671ce94",
   "metadata": {},
   "outputs": [
    {
     "name": "stdout",
     "output_type": "stream",
     "text": [
      "['book_id', 'title', 'isbn13', 'language_id', 'num_pages', 'publication_date', 'publisher_id']\n"
     ]
    }
   ],
   "source": [
    "print(test)"
   ]
  },
  {
   "cell_type": "code",
   "execution_count": 36,
   "id": "3edb8d1d",
   "metadata": {},
   "outputs": [],
   "source": [
    "query = \"SELECT * FROM publisher LIMIT 10\""
   ]
  },
  {
   "cell_type": "code",
   "execution_count": 37,
   "id": "d492b406",
   "metadata": {},
   "outputs": [],
   "source": [
    "test2 = read_data(my_cursor, query, 'publisher')"
   ]
  },
  {
   "cell_type": "code",
   "execution_count": 38,
   "id": "a8f242b2",
   "metadata": {},
   "outputs": [
    {
     "data": {
      "text/html": [
       "<div>\n",
       "<style scoped>\n",
       "    .dataframe tbody tr th:only-of-type {\n",
       "        vertical-align: middle;\n",
       "    }\n",
       "\n",
       "    .dataframe tbody tr th {\n",
       "        vertical-align: top;\n",
       "    }\n",
       "\n",
       "    .dataframe thead th {\n",
       "        text-align: right;\n",
       "    }\n",
       "</style>\n",
       "<table border=\"1\" class=\"dataframe\">\n",
       "  <thead>\n",
       "    <tr style=\"text-align: right;\">\n",
       "      <th></th>\n",
       "      <th>publisher_id</th>\n",
       "      <th>publisher_name</th>\n",
       "    </tr>\n",
       "  </thead>\n",
       "  <tbody>\n",
       "    <tr>\n",
       "      <th>0</th>\n",
       "      <td>1</td>\n",
       "      <td>10/18</td>\n",
       "    </tr>\n",
       "    <tr>\n",
       "      <th>1</th>\n",
       "      <td>2</td>\n",
       "      <td>1st Book Library</td>\n",
       "    </tr>\n",
       "    <tr>\n",
       "      <th>2</th>\n",
       "      <td>3</td>\n",
       "      <td>1st World Library</td>\n",
       "    </tr>\n",
       "    <tr>\n",
       "      <th>3</th>\n",
       "      <td>4</td>\n",
       "      <td>A &amp; C Black (Childrens books)</td>\n",
       "    </tr>\n",
       "    <tr>\n",
       "      <th>4</th>\n",
       "      <td>5</td>\n",
       "      <td>A Harvest Book/Harcourt Inc.</td>\n",
       "    </tr>\n",
       "    <tr>\n",
       "      <th>5</th>\n",
       "      <td>6</td>\n",
       "      <td>A K PETERS</td>\n",
       "    </tr>\n",
       "    <tr>\n",
       "      <th>6</th>\n",
       "      <td>7</td>\n",
       "      <td>AA World Services</td>\n",
       "    </tr>\n",
       "    <tr>\n",
       "      <th>7</th>\n",
       "      <td>8</td>\n",
       "      <td>Abacus</td>\n",
       "    </tr>\n",
       "    <tr>\n",
       "      <th>8</th>\n",
       "      <td>9</td>\n",
       "      <td>Abacus Books</td>\n",
       "    </tr>\n",
       "    <tr>\n",
       "      <th>9</th>\n",
       "      <td>10</td>\n",
       "      <td>Abacus Books (London)</td>\n",
       "    </tr>\n",
       "  </tbody>\n",
       "</table>\n",
       "</div>"
      ],
      "text/plain": [
       "   publisher_id                 publisher_name\n",
       "0             1                          10/18\n",
       "1             2               1st Book Library\n",
       "2             3              1st World Library\n",
       "3             4  A & C Black (Childrens books)\n",
       "4             5   A Harvest Book/Harcourt Inc.\n",
       "5             6                     A K PETERS\n",
       "6             7              AA World Services\n",
       "7             8                         Abacus\n",
       "8             9                   Abacus Books\n",
       "9            10          Abacus Books (London)"
      ]
     },
     "metadata": {},
     "output_type": "display_data"
    }
   ],
   "source": [
    "display(test2)"
   ]
  },
  {
   "cell_type": "code",
   "execution_count": null,
   "id": "90b5c1f8",
   "metadata": {},
   "outputs": [],
   "source": []
  }
 ],
 "metadata": {
  "kernelspec": {
   "display_name": "Python 3 (ipykernel)",
   "language": "python",
   "name": "python3"
  },
  "language_info": {
   "codemirror_mode": {
    "name": "ipython",
    "version": 3
   },
   "file_extension": ".py",
   "mimetype": "text/x-python",
   "name": "python",
   "nbconvert_exporter": "python",
   "pygments_lexer": "ipython3",
   "version": "3.9.12"
  }
 },
 "nbformat": 4,
 "nbformat_minor": 5
}
